{
 "cells": [
  {
   "cell_type": "markdown",
   "metadata": {},
   "source": [
    "# Welcome to the Bootcamp"
   ]
  },
  {
   "cell_type": "markdown",
   "metadata": {},
   "source": [
    "Program to check if python is correctly installed\n"
   ]
  },
  {
   "cell_type": "markdown",
   "metadata": {},
   "source": [
    "Hello_World.py"
   ]
  },
  {
   "cell_type": "code",
   "execution_count": 1,
   "metadata": {},
   "outputs": [
    {
     "name": "stdout",
     "output_type": "stream",
     "text": [
      "Hello World\n",
      "Hello Ali Khan\n"
     ]
    }
   ],
   "source": [
    "## Hello world program with IO\n",
    "\n",
    "print(\"Hello World\")\n",
    "x = input(\"What is your name?\")\n",
    "print(\"Hello \" + x)"
   ]
  },
  {
   "cell_type": "markdown",
   "metadata": {},
   "source": [
    "Sum_Of_Numbers.py"
   ]
  },
  {
   "cell_type": "code",
   "execution_count": 2,
   "metadata": {},
   "outputs": [
    {
     "name": "stdout",
     "output_type": "stream",
     "text": [
      "The sum of the 2 numbers is:  5\n"
     ]
    }
   ],
   "source": [
    "# Python program to find out the sum of 2 given numbers:\n",
    "\n",
    "# Input 2 numbers from the user:\n",
    "num1 = int(input(\"Enter the first number: \"))\n",
    "num2 = int(input(\"Enter the second number: \"))\n",
    "# Calculate the sum of the 2 numbers:\n",
    "sum = num1 + num2\n",
    "# Print the sum of the 2 numbers:\n",
    "print(\"The sum of the 2 numbers is: \", sum)\n"
   ]
  },
  {
   "cell_type": "markdown",
   "metadata": {},
   "source": [
    "# List and List operations"
   ]
  },
  {
   "cell_type": "markdown",
   "metadata": {},
   "source": [
    "list_and_list_operations.py"
   ]
  },
  {
   "cell_type": "code",
   "execution_count": 3,
   "metadata": {},
   "outputs": [
    {
     "name": "stdout",
     "output_type": "stream",
     "text": [
      "The list is:  [1, 2, 3, 4, 5]\n",
      "The first element of the list is:  1\n",
      "The second element of the list is:  2\n",
      "The third element of the list is:  3\n",
      "The fourth element of the list is:  4\n",
      "The fifth element of the list is:  5\n",
      "The first 3 elements of the list are:  [1, 2, 3]\n",
      "The last 3 elements of the list are:  [3, 4, 5]\n",
      "The list after updating the first element is:  [10, 2, 3, 4, 5]\n",
      "The list after deleting the first element is:  [2, 3, 4, 5]\n",
      "The length of the list is:  4\n",
      "The second list is:  [6, 7, 8, 9, 10]\n",
      "The concatenated list is:  [2, 3, 4, 5, 6, 7, 8, 9, 10]\n",
      "The repeated list is:  [2, 3, 4, 5, 2, 3, 4, 5, 2, 3, 4, 5]\n",
      "Is 3 a member of the list?  True\n",
      "Is 11 a member of the list?  False\n",
      "The elements of the list are: \n",
      "2\n",
      "3\n",
      "4\n",
      "5\n",
      "The maximum element of the list is:  5\n",
      "The minimum element of the list is:  2\n",
      "The unsorted list is:  [5, 4, 3, 2, 1]\n",
      "The sorted list is:  [1, 2, 3, 4, 5]\n",
      "The list after appending 6 is:  [1, 2, 3, 4, 5, 6]\n",
      "The list after inserting 0 at index 0 is:  [0, 1, 2, 3, 4, 5, 6]\n",
      "The list after removing 0 is:  [1, 2, 3, 4, 5, 6]\n",
      "The list after poping an element is:  [1, 2, 3, 4, 5]\n",
      "The list after clearing is:  []\n",
      "The list is:  [1, 2, 3, 4, 5, 1, 2, 3, 4, 5]\n",
      "The number of occurences of 1 in the list is:  2\n",
      "The list after extending is:  [1, 2, 3, 4, 5, 1, 2, 3, 4, 5, 6, 7, 8, 9, 10]\n",
      "The index of 1 in the list is:  0\n",
      "The reversed list is:  [10, 9, 8, 7, 6, 5, 4, 3, 2, 1, 5, 4, 3, 2, 1]\n",
      "The copied list is:  [10, 9, 8, 7, 6, 5, 4, 3, 2, 1, 5, 4, 3, 2, 1]\n"
     ]
    }
   ],
   "source": [
    "# Python program to demonstrate some basic list operations:\n",
    "\n",
    "# Create a list:\n",
    "list1 = [1, 2, 3, 4, 5]\n",
    "print(\"The list is: \", list1)\n",
    "\n",
    "# Accessing elements of a list:\n",
    "print(\"The first element of the list is: \", list1[0])\n",
    "print(\"The second element of the list is: \", list1[1])\n",
    "print(\"The third element of the list is: \", list1[2])\n",
    "print(\"The fourth element of the list is: \", list1[3])\n",
    "print(\"The fifth element of the list is: \", list1[4])\n",
    "\n",
    "# Acessing using slicing:\n",
    "print(\"The first 3 elements of the list are: \", list1[0:3])\n",
    "print(\"The last 3 elements of the list are: \", list1[2:5])\n",
    "\n",
    "# Updating elements of a list:\n",
    "list1[0] = 10\n",
    "print(\"The list after updating the first element is: \", list1)\n",
    "\n",
    "# Deleting elements of a list:\n",
    "del list1[0]\n",
    "print(\"The list after deleting the first element is: \", list1)\n",
    "\n",
    "# Length of a list:\n",
    "print(\"The length of the list is: \", len(list1))\n",
    "\n",
    "# Concatenation of lists:\n",
    "list2 = [6, 7, 8, 9, 10]\n",
    "print(\"The second list is: \", list2)\n",
    "list3 = list1 + list2\n",
    "print(\"The concatenated list is: \", list3)\n",
    "\n",
    "# Repetition of lists:\n",
    "list4 = list1 * 3\n",
    "print(\"The repeated list is: \", list4)\n",
    "\n",
    "# Membership of a list:\n",
    "print(\"Is 3 a member of the list? \", 3 in list1)\n",
    "print(\"Is 11 a member of the list? \", 11 in list1)\n",
    "\n",
    "# Iterating through a list:\n",
    "print(\"The elements of the list are: \")\n",
    "for i in list1:\n",
    "    print(i)\n",
    "\n",
    "# Maximum and minimum of a list:\n",
    "print(\"The maximum element of the list is: \", max(list1))\n",
    "print(\"The minimum element of the list is: \", min(list1))\n",
    "\n",
    "# Sorting a list:\n",
    "list5 = [5, 4, 3, 2, 1]\n",
    "print(\"The unsorted list is: \", list5)\n",
    "list5.sort()\n",
    "print(\"The sorted list is: \", list5)\n",
    "\n",
    "# Appending an element to a list:\n",
    "list5.append(6)\n",
    "print(\"The list after appending 6 is: \", list5)\n",
    "\n",
    "# Inserting an element at a particular index:\n",
    "list5.insert(0, 0)\n",
    "print(\"The list after inserting 0 at index 0 is: \", list5)\n",
    "\n",
    "# Removing an element from a list:\n",
    "list5.remove(0)\n",
    "print(\"The list after removing 0 is: \", list5)\n",
    "\n",
    "# Poping an element from a list:\n",
    "list5.pop()\n",
    "print(\"The list after poping an element is: \", list5)\n",
    "\n",
    "# Clearing a list:\n",
    "list5.clear()\n",
    "print(\"The list after clearing is: \", list5)\n",
    "\n",
    "# Counting the number of occurences of an element in a list:\n",
    "list6 = [1, 2, 3, 4, 5, 1, 2, 3, 4, 5]\n",
    "print(\"The list is: \", list6)\n",
    "print(\"The number of occurences of 1 in the list is: \", list6.count(1))\n",
    "\n",
    "# Extending a list:\n",
    "list6.extend([6, 7, 8, 9, 10])\n",
    "print(\"The list after extending is: \", list6)\n",
    "\n",
    "# Index of an element in a list:\n",
    "print(\"The index of 1 in the list is: \", list6.index(1))\n",
    "\n",
    "# Reversing a list:\n",
    "list6.reverse()\n",
    "print(\"The reversed list is: \", list6)\n",
    "\n",
    "# Copying a list:\n",
    "list7 = list6.copy()\n",
    "print(\"The copied list is: \", list7)\n",
    "\n"
   ]
  },
  {
   "cell_type": "markdown",
   "metadata": {},
   "source": [
    "# Conditionals and Loops"
   ]
  },
  {
   "cell_type": "markdown",
   "metadata": {},
   "source": [
    "Conditionals_and_Loops.py"
   ]
  },
  {
   "cell_type": "code",
   "execution_count": 4,
   "metadata": {},
   "outputs": [
    {
     "name": "stdout",
     "output_type": "stream",
     "text": [
      "The number is positive.\n",
      "The numbers from 1 to 10 are: \n",
      "1\n",
      "2\n",
      "3\n",
      "4\n",
      "5\n",
      "6\n",
      "7\n",
      "8\n",
      "9\n",
      "10\n",
      "The numbers from 1 to 10 in reverse order are: \n",
      "10\n",
      "9\n",
      "8\n",
      "7\n",
      "6\n",
      "5\n",
      "4\n",
      "3\n",
      "2\n",
      "1\n"
     ]
    }
   ],
   "source": [
    "# Progarm to demonstrate conditional statements in Python:\n",
    "\n",
    "# Input a number from the user:\n",
    "num = int(input(\"Enter a number: \"))\n",
    "# Check if the number is positive:\n",
    "if num > 0:\n",
    "    print(\"The number is positive.\")\n",
    "# Check if the number is negative:\n",
    "elif num < 0:\n",
    "    print(\"The number is negative.\")\n",
    "# If both the above conditions are false, then the number is 0:\n",
    "else:\n",
    "    print(\"The number is 0.\")\n",
    "    \n",
    "# Program to demonstrate the Loops in Python:\n",
    "\n",
    "# Print the numbers from 1 to 10:\n",
    "print(\"The numbers from 1 to 10 are: \")\n",
    "for i in range(1, 11):\n",
    "    print(i)\n",
    "\n",
    "# Print the numbers from 1 to 10 in reverse order:\n",
    "print(\"The numbers from 1 to 10 in reverse order are: \")\n",
    "for i in range(10, 0, -1):\n",
    "    print(i)\n",
    "\n"
   ]
  },
  {
   "cell_type": "code",
   "execution_count": 5,
   "metadata": {},
   "outputs": [
    {
     "name": "stdout",
     "output_type": "stream",
     "text": [
      "Grade calculator\n",
      "Your grade is:\n",
      "B\n"
     ]
    }
   ],
   "source": [
    "## if, elif and else loop\n",
    "\n",
    "print(\"Grade calculator\")\n",
    "grades = input(\"Please enter your grades: \")\n",
    "grades = int(grades)\n",
    "print(\"Your grade is:\")\n",
    "if grades >= 90:\n",
    "    print(\"A\")\n",
    "elif grades >= 80:\n",
    "    print(\"B\")\n",
    "elif grades >= 70:\n",
    "    print(\"C\")\n",
    "elif grades >= 60:\n",
    "    print(\"D\")\n",
    "elif grades >= 50:\n",
    "    print(\"E\")\n",
    "else:\n",
    "    print(\"F\")"
   ]
  },
  {
   "cell_type": "code",
   "execution_count": 6,
   "metadata": {},
   "outputs": [
    {
     "name": "stdout",
     "output_type": "stream",
     "text": [
      "Grades calculator\n",
      "Your grade is:\n",
      "F\n"
     ]
    }
   ],
   "source": [
    "## if, elif else with a while loop for error correction:\n",
    "\n",
    "print(\"Grades calculator\")\n",
    "grades = input(\"Please enter your grades: \")\n",
    "\n",
    "# Here we will be trying to catch errors using the try and except function\n",
    "while type(grades) != int:\n",
    "    try:\n",
    "        grades = int(grades)\n",
    "    except:\n",
    "        print(\"Please enter a number\")\n",
    "        grades = input(\"Please enter your grades: \")\n",
    "\n",
    "\n",
    "print(\"Your grade is:\")\n",
    "if grades >= 90:\n",
    "    print(\"A\")\n",
    "elif grades >= 80:\n",
    "    print(\"B\")\n",
    "elif grades >= 70:\n",
    "    print(\"C\")\n",
    "elif grades >= 60:\n",
    "    print(\"D\")\n",
    "elif grades >= 50:\n",
    "    print(\"E\")\n",
    "else:\n",
    "    print(\"F\")\n"
   ]
  },
  {
   "cell_type": "markdown",
   "metadata": {},
   "source": [
    "# Numpy stuff"
   ]
  },
  {
   "cell_type": "markdown",
   "metadata": {},
   "source": [
    "numpy_up_to_speed.py"
   ]
  },
  {
   "cell_type": "code",
   "execution_count": 11,
   "metadata": {},
   "outputs": [
    {
     "name": "stdout",
     "output_type": "stream",
     "text": [
      "Matrix arr2 is not square, so you can't calculate its inverse.\n",
      "Original Arrays:\n",
      "[1 2 3]\n",
      "[[4 5 6]\n",
      " [7 8 9]]\n",
      "\n",
      "Array Operations:\n",
      "[11 12 13]\n",
      "[[ 8 10 12]\n",
      " [14 16 18]]\n",
      "\n",
      "Array Slicing and Indexing:\n",
      "[8 9]\n",
      "\n",
      "Array Shape and Dimensions:\n",
      "(2, 3)\n",
      "[[1]\n",
      " [2]\n",
      " [3]]\n",
      "\n",
      "Mathematical Functions:\n",
      "[0.84147098 0.90929743 0.14112001]\n",
      "[ 2.71828183  7.3890561  20.08553692]\n",
      "\n",
      "Array Initialization:\n",
      "[[0. 0. 0.]\n",
      " [0. 0. 0.]]\n",
      "[[0.53807606 0.3260581 ]\n",
      " [0.41195813 0.09680144]]\n",
      "\n",
      "Array Concatenation and Stacking:\n",
      "[1 2 3 1 2 3]\n",
      "[1 2 3 1 2 3]\n",
      "\n",
      "Array Aggregation:\n",
      "2.0\n",
      "9\n",
      "\n",
      "Linear Algebra Operations:\n",
      "[32 50]\n",
      "Matrix arr2 is not square, so you can't calculate its inverse.\n",
      "\n",
      "Statistical Operations:\n",
      "0.816496580927726\n",
      "[[1. 1.]\n",
      " [1. 1.]]\n",
      "[[1. 1.]\n",
      " [1. 1.]]\n",
      "\n",
      "Reshaping and Transposing:\n",
      "[4 5 6 7 8 9]\n",
      "[[4 7]\n",
      " [5 8]\n",
      " [6 9]]\n"
     ]
    }
   ],
   "source": [
    "import numpy as np\n",
    "\n",
    "# Creating NumPy arrays\n",
    "arr1 = np.array([1, 2, 3])\n",
    "arr2 = np.array([[4, 5, 6], [7, 8, 9]])\n",
    "\n",
    "# Array Operations\n",
    "addition_result = arr1 + 10\n",
    "multiplication_result = arr2 * 2\n",
    "\n",
    "# Array Slicing and Indexing\n",
    "sliced_array = arr2[1, 1:]\n",
    "\n",
    "# Array Shape and Dimensions\n",
    "shape = arr2.shape\n",
    "reshaped_array = arr1.reshape(3, 1)\n",
    "\n",
    "# Mathematical Functions\n",
    "sin_result = np.sin(arr1)\n",
    "exp_result = np.exp(arr1)\n",
    "\n",
    "# Array Initialization\n",
    "zeros_array = np.zeros((2, 3))\n",
    "random_array = np.random.rand(2, 2)\n",
    "\n",
    "# Array Concatenation and Stacking\n",
    "concatenated_array = np.concatenate((arr1, arr1))\n",
    "stacked_array = np.hstack((arr1, arr1))\n",
    "\n",
    "# Array Aggregation\n",
    "mean_value = np.mean(arr1)\n",
    "max_value = np.max(arr2)\n",
    "\n",
    "# Linear Algebra Operations\n",
    "matrix_product = np.dot(arr2, arr1)\n",
    "\n",
    "if arr2.shape[0] == arr2.shape[1]:\n",
    "    matrix_inverse = np.linalg.inv(arr2)\n",
    "else:\n",
    "    matrix_inverse = \"Matrix arr2 is not square, so you can't calculate its inverse.\"\n",
    "    print(matrix_inverse)\n",
    "\n",
    "# Statistical Operations\n",
    "std_deviation = np.std(arr1)\n",
    "correlation_matrix = np.corrcoef(arr2)\n",
    "covariance_matrix = np.cov(arr2)\n",
    "\n",
    "# Reshaping and Transposing\n",
    "flattened_array = arr2.flatten()\n",
    "transposed_matrix = np.transpose(arr2)\n",
    "\n",
    "# Displaying Results\n",
    "print(\"Original Arrays:\")\n",
    "print(arr1)\n",
    "print(arr2)\n",
    "\n",
    "print(\"\\nArray Operations:\")\n",
    "print(addition_result)\n",
    "print(multiplication_result)\n",
    "\n",
    "print(\"\\nArray Slicing and Indexing:\")\n",
    "print(sliced_array)\n",
    "\n",
    "print(\"\\nArray Shape and Dimensions:\")\n",
    "print(shape)\n",
    "print(reshaped_array)\n",
    "\n",
    "print(\"\\nMathematical Functions:\")\n",
    "print(sin_result)\n",
    "print(exp_result)\n",
    "\n",
    "print(\"\\nArray Initialization:\")\n",
    "print(zeros_array)\n",
    "print(random_array)\n",
    "\n",
    "print(\"\\nArray Concatenation and Stacking:\")\n",
    "print(concatenated_array)\n",
    "print(stacked_array)\n",
    "\n",
    "print(\"\\nArray Aggregation:\")\n",
    "print(mean_value)\n",
    "print(max_value)\n",
    "\n",
    "print(\"\\nLinear Algebra Operations:\")\n",
    "print(matrix_product)\n",
    "print(matrix_inverse)\n",
    "\n",
    "print(\"\\nStatistical Operations:\")\n",
    "print(std_deviation)\n",
    "print(correlation_matrix)\n",
    "print(covariance_matrix)\n",
    "\n",
    "print(\"\\nReshaping and Transposing:\")\n",
    "print(flattened_array)\n",
    "print(transposed_matrix)\n"
   ]
  },
  {
   "cell_type": "markdown",
   "metadata": {},
   "source": [
    "# Pandas stuff"
   ]
  },
  {
   "cell_type": "markdown",
   "metadata": {},
   "source": [
    "pandas_up_to_speed.py"
   ]
  },
  {
   "cell_type": "code",
   "execution_count": 12,
   "metadata": {},
   "outputs": [
    {
     "name": "stdout",
     "output_type": "stream",
     "text": [
      "DataFrame:\n",
      "      Name  Age           City\n",
      "0    Alice   25       New York\n",
      "1      Bob   30  San Francisco\n",
      "2  Charlie   22    Los Angeles\n",
      "\n",
      "Selecting a Column:\n",
      "0      Alice\n",
      "1        Bob\n",
      "2    Charlie\n",
      "Name: Name, dtype: object\n",
      "\n",
      "Filtering Rows:\n",
      "      Name  Age         City\n",
      "0    Alice   25     New York\n",
      "2  Charlie   22  Los Angeles\n",
      "\n",
      "Summary Statistics:\n",
      "             Age\n",
      "count   3.000000\n",
      "mean   25.666667\n",
      "std     4.041452\n",
      "min    22.000000\n",
      "25%    23.500000\n",
      "50%    25.000000\n",
      "75%    27.500000\n",
      "max    30.000000\n",
      "\n",
      "Handling Missing Data:\n",
      "      Name   Age         City\n",
      "0    Alice  25.0     New York\n",
      "2  Charlie  22.0  Los Angeles\n",
      "\n",
      "Data Transformation:\n",
      "      Name   Age           City  Salary\n",
      "0    Alice  25.0       New York   50000\n",
      "1      Bob   NaN  San Francisco   60000\n",
      "2  Charlie  22.0    Los Angeles   55000\n",
      "\n",
      "Grouping and Aggregation:\n",
      "City\n",
      "Los Angeles      55000.0\n",
      "New York         50000.0\n",
      "San Francisco    60000.0\n",
      "Name: Salary, dtype: float64\n"
     ]
    }
   ],
   "source": [
    "import pandas as pd\n",
    "\n",
    "# Creating a DataFrame\n",
    "data = {'Name': ['Alice', 'Bob', 'Charlie'],\n",
    "        'Age': [25, 30, 22],\n",
    "        'City': ['New York', 'San Francisco', 'Los Angeles']}\n",
    "\n",
    "df = pd.DataFrame(data)\n",
    "\n",
    "# Displaying DataFrame\n",
    "print(\"DataFrame:\")\n",
    "print(df)\n",
    "\n",
    "# Data Selection and Indexing\n",
    "print(\"\\nSelecting a Column:\")\n",
    "print(df['Name'])\n",
    "\n",
    "print(\"\\nFiltering Rows:\")\n",
    "print(df[df['Age'] < 30])\n",
    "\n",
    "# Descriptive Statistics\n",
    "print(\"\\nSummary Statistics:\")\n",
    "print(df.describe())\n",
    "\n",
    "# Missing Data Handling\n",
    "df.loc[1, 'Age'] = None\n",
    "print(\"\\nHandling Missing Data:\")\n",
    "print(df.dropna())\n",
    "\n",
    "# Data Transformation\n",
    "print(\"\\nData Transformation:\")\n",
    "df['Salary'] = [50000, 60000, 55000]\n",
    "print(df)\n",
    "\n",
    "# Grouping and Aggregation\n",
    "print(\"\\nGrouping and Aggregation:\")\n",
    "grouped = df.groupby('City')['Salary'].mean()\n",
    "print(grouped)\n",
    "\n",
    "# Exporting Data\n",
    "df.to_csv('sample_data.csv', index=False)\n"
   ]
  },
  {
   "cell_type": "markdown",
   "metadata": {},
   "source": [
    "simple_data_cleaning.py"
   ]
  },
  {
   "cell_type": "code",
   "execution_count": 13,
   "metadata": {},
   "outputs": [
    {
     "name": "stdout",
     "output_type": "stream",
     "text": [
      "The first 5 rows of the dataframe are: \n",
      "   Index  Organization Id                     Name  \\\n",
      "0      1  FAB0d41d5b5d22c              Ferrell LLC   \n",
      "1      2  6A7EdDEA9FaDC52  Mckinney, Riley and Day   \n",
      "2      3  0bFED1ADAE4bcC1               Hester Ltd   \n",
      "3      4  2bFC1Be8a4ce42f           Holder-Sellers   \n",
      "4      5  9eE8A6a4Eb96C24              Mayer Group   \n",
      "\n",
      "                          Website           Country  \\\n",
      "0              https://price.net/  Papua New Guinea   \n",
      "1  http://www.hall-buchanan.info/           Finland   \n",
      "2       http://sullivan-reed.com/             China   \n",
      "3             https://becker.com/      Turkmenistan   \n",
      "4          http://www.brewer.com/         Mauritius   \n",
      "\n",
      "                                      Description  Founded  \\\n",
      "0             Horizontal empowering knowledgebase     1990   \n",
      "1             User-centric system-worthy leverage     2015   \n",
      "2                  Switchable scalable moratorium     1971   \n",
      "3  De-engineered systemic artificial intelligence     2004   \n",
      "4              Synchronized needs-based challenge     1991   \n",
      "\n",
      "                      Industry  Number of employees  \n",
      "0                     Plastics                 3498  \n",
      "1  Glass / Ceramics / Concrete                 4952  \n",
      "2                Public Safety                 5287  \n",
      "3                   Automotive                  921  \n",
      "4               Transportation                 7870  \n",
      "The last 5 rows of the dataframe are: \n",
      "    Index  Organization Id               Name                  Website  \\\n",
      "95     96  0a0bfFbBbB8eC7c       Holmes Group    https://mcdowell.org/   \n",
      "96     97  BA6Cd9Dae2Efd62           Good Ltd        http://duffy.com/   \n",
      "97     98  E7df80C60Abd7f9  Clements-Espinoza  http://www.flowers.net/   \n",
      "98     99  AFc285dbE2fEd24         Mendez Inc   https://www.burke.net/   \n",
      "99    100  e9eB5A60Cef8354     Watkins-Kaiser  http://www.herring.com/   \n",
      "\n",
      "                        Country                              Description  \\\n",
      "95                     Ethiopia   Right-sized zero tolerance focus group   \n",
      "96                     Anguilla  Reverse-engineered composite moratorium   \n",
      "97  Falkland Islands (Malvinas)                  Progressive modular hub   \n",
      "98              Kyrgyz Republic          User-friendly exuding migration   \n",
      "99                         Togo            Synergistic background access   \n",
      "\n",
      "    Founded              Industry  Number of employees  \n",
      "95     1975           Photography                 2988  \n",
      "96     1971     Consumer Services                 4292  \n",
      "97     1991       Broadcast Media                  236  \n",
      "98     1993  Education Management                  339  \n",
      "99     2009    Financial Services                 2785  \n",
      "The shape of the dataframe is:  (100, 9)\n",
      "The shape of the dataframe after dropping the rows with missing values is:  (100, 9)\n"
     ]
    }
   ],
   "source": [
    "# Program to do simple data cleaning in Python:\n",
    "\n",
    "# Import the pandas library\n",
    "import pandas as pd\n",
    "\n",
    "# Read the csv file\n",
    "df = pd.read_csv(\"data.csv\")\n",
    "\n",
    "# Print the first 5 rows of the dataframe\n",
    "print(\"The first 5 rows of the dataframe are: \")\n",
    "print(df.head())\n",
    "\n",
    "# Print the last 5 rows of the dataframe\n",
    "print(\"The last 5 rows of the dataframe are: \")\n",
    "print(df.tail())\n",
    "\n",
    "# Print the shape of the dataframe\n",
    "print(\"The shape of the dataframe is: \", df.shape)\n",
    "\n",
    "# Drop the rows with missing values\n",
    "df = df.dropna()\n",
    "\n",
    "# Print the shape of the dataframe after dropping the rows with missing values\n",
    "print(\"The shape of the dataframe after dropping the rows with missing values is: \", df.shape)\n",
    "\n",
    "\n"
   ]
  },
  {
   "cell_type": "markdown",
   "metadata": {},
   "source": [
    "# matplotlib_up_to_speed.py"
   ]
  },
  {
   "cell_type": "markdown",
   "metadata": {},
   "source": [
    "Line plot"
   ]
  },
  {
   "cell_type": "code",
   "execution_count": 14,
   "metadata": {},
   "outputs": [
    {
     "data": {
      "image/png": "[encoded data removed]",
      "text/plain": [
       "<Figure size 640x480 with 1 Axes>"
      ]
     },
     "metadata": {},
     "output_type": "display_data"
    }
   ],
   "source": [
    "import matplotlib.pyplot as plt\n",
    "\n",
    "# Data\n",
    "x = [1, 2, 3, 4, 5]\n",
    "y = [2, 4, 1, 7, 6]\n",
    "\n",
    "# Create a line plot\n",
    "plt.plot(x, y)\n",
    "\n",
    "# Add labels and title\n",
    "plt.xlabel('X-axis')\n",
    "plt.ylabel('Y-axis')\n",
    "plt.title('Line Plot')\n",
    "\n",
    "# Display the plot\n",
    "plt.show()\n"
   ]
  },
  {
   "cell_type": "markdown",
   "metadata": {},
   "source": [
    "Scatter plot"
   ]
  },
  {
   "cell_type": "code",
   "execution_count": 15,
   "metadata": {},
   "outputs": [
    {
     "data": {
      "image/png": "[encoded data removed]",
      "text/plain": [
       "<Figure size 640x480 with 1 Axes>"
      ]
     },
     "metadata": {},
     "output_type": "display_data"
    }
   ],
   "source": [
    "import matplotlib.pyplot as plt\n",
    "\n",
    "# Data\n",
    "x = [1, 2, 3, 4, 5]\n",
    "y = [2, 4, 1, 7, 6]\n",
    "\n",
    "# Create a scatter plot\n",
    "plt.scatter(x, y, label='Data Points', color='blue', marker='o')\n",
    "\n",
    "# Add labels and title\n",
    "plt.xlabel('X-axis')\n",
    "plt.ylabel('Y-axis')\n",
    "plt.title('Scatter Plot')\n",
    "\n",
    "# Add legend\n",
    "plt.legend()\n",
    "\n",
    "# Display the plot\n",
    "plt.show()"
   ]
  },
  {
   "cell_type": "markdown",
   "metadata": {},
   "source": [
    "Bar Chart"
   ]
  },
  {
   "cell_type": "code",
   "execution_count": 16,
   "metadata": {},
   "outputs": [
    {
     "data": {
      "image/png": "[encoded data removed]",
      "text/plain": [
       "<Figure size 640x480 with 1 Axes>"
      ]
     },
     "metadata": {},
     "output_type": "display_data"
    }
   ],
   "source": [
    "import matplotlib.pyplot as plt\n",
    "\n",
    "# Data\n",
    "categories = ['A', 'B', 'C', 'D']\n",
    "values = [5, 12, 7, 9]\n",
    "\n",
    "# Create a bar chart\n",
    "plt.bar(categories, values, color='green')\n",
    "\n",
    "# Add labels and title\n",
    "plt.xlabel('Categories')\n",
    "plt.ylabel('Values')\n",
    "plt.title('Bar Chart')\n",
    "\n",
    "# Display the plot\n",
    "plt.show()"
   ]
  },
  {
   "cell_type": "markdown",
   "metadata": {},
   "source": [
    "Histogram"
   ]
  },
  {
   "cell_type": "code",
   "execution_count": 17,
   "metadata": {},
   "outputs": [
    {
     "data": {
      "image/png": "[encoded data removed]",
      "text/plain": [
       "<Figure size 640x480 with 1 Axes>"
      ]
     },
     "metadata": {},
     "output_type": "display_data"
    }
   ],
   "source": [
    "import matplotlib.pyplot as plt\n",
    "import numpy as np\n",
    "\n",
    "# Generate random data\n",
    "data = np.random.randn(1000)\n",
    "\n",
    "# Create a histogram\n",
    "plt.hist(data, bins=20, color='purple', alpha=0.7)\n",
    "\n",
    "# Add labels and title\n",
    "plt.xlabel('Value')\n",
    "plt.ylabel('Frequency')\n",
    "plt.title('Histogram')\n",
    "\n",
    "# Display the plot\n",
    "plt.show()"
   ]
  },
  {
   "cell_type": "markdown",
   "metadata": {},
   "source": [
    "Pie Chart"
   ]
  },
  {
   "cell_type": "code",
   "execution_count": 18,
   "metadata": {},
   "outputs": [
    {
     "data": {
      "image/png": "[encoded data removed]",
      "text/plain": [
       "<Figure size 640x480 with 1 Axes>"
      ]
     },
     "metadata": {},
     "output_type": "display_data"
    }
   ],
   "source": [
    "import matplotlib.pyplot as plt\n",
    "\n",
    "# Data\n",
    "labels = ['A', 'B', 'C', 'D']\n",
    "sizes = [15, 30, 45, 10]\n",
    "\n",
    "# Create a pie chart\n",
    "plt.pie(sizes, labels=labels, autopct='%1.1f%%', startangle=90)\n",
    "\n",
    "# Add title\n",
    "plt.title('Pie Chart')\n",
    "\n",
    "# Display the plot\n",
    "plt.show()"
   ]
  },
  {
   "cell_type": "code",
   "execution_count": null,
   "metadata": {},
   "outputs": [],
   "source": []
  }
 ],
 "metadata": {
  "kernelspec": {
   "display_name": "Python 3",
   "language": "python",
   "name": "python3"
  },
  "language_info": {
   "codemirror_mode": {
    "name": "ipython",
    "version": 3
   },
   "file_extension": ".py",
   "mimetype": "text/x-python",
   "name": "python",
   "nbconvert_exporter": "python",
   "pygments_lexer": "ipython3",
   "version": "3.11.5"
  },
  "orig_nbformat": 4
 },
 "nbformat": 4,
 "nbformat_minor": 2
}
